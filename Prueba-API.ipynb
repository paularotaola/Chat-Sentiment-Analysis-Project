{
 "cells": [
  {
   "cell_type": "markdown",
   "metadata": {},
   "source": [
    "# Chat Analysis Project"
   ]
  },
  {
   "cell_type": "code",
   "execution_count": 1,
   "metadata": {},
   "outputs": [],
   "source": [
    "import requests\n",
    "import json\n",
    "from pymongo import MongoClient\n",
    "client = MongoClient()\n",
    "db = client.get_database(\"My-Super-API\")"
   ]
  },
  {
   "cell_type": "code",
   "execution_count": 2,
   "metadata": {},
   "outputs": [
    {
     "name": "stdout",
     "output_type": "stream",
     "text": [
      "b'Hello, World!'\n"
     ]
    }
   ],
   "source": [
    "url=\"http://localhost:5000/\"\n",
    "print(requests.get(url).content)"
   ]
  },
  {
   "cell_type": "code",
   "execution_count": 3,
   "metadata": {},
   "outputs": [],
   "source": [
    "def findUser(name):\n",
    "    return str(list(db.users.find({\"name\": f\"{user}\"}))[0]['_id'])\n",
    "\n",
    "def findConversation(conversation):\n",
    "     return str(list(db.conversations.find({\"conversation_group\": f\"{conversation}\"}))[0]['_id'])\n"
   ]
  },
  {
   "cell_type": "markdown",
   "metadata": {},
   "source": [
    "### Añadir un usuario"
   ]
  },
  {
   "cell_type": "code",
   "execution_count": 4,
   "metadata": {},
   "outputs": [
    {
     "name": "stdout",
     "output_type": "stream",
     "text": [
      "b'Sorry. The User already exists'\n",
      "b'Sorry. The User already exists'\n",
      "b'Sorry. The User already exists'\n"
     ]
    }
   ],
   "source": [
    "name= [\"Marc\", \"Felipe\", \"Amanda\"]\n",
    "for i in name:\n",
    "    url = f\"http://localhost:5000/user/create/{i}\"\n",
    "    res = requests.get(url).content\n",
    "    print(res) "
   ]
  },
  {
   "cell_type": "code",
   "execution_count": 5,
   "metadata": {},
   "outputs": [
    {
     "name": "stdout",
     "output_type": "stream",
     "text": [
      "b'Sorry. The User already exists'\n"
     ]
    }
   ],
   "source": [
    "name = \"Gonzalo\"\n",
    "url = f\"http://localhost:5000/user/create/{name}\"\n",
    "res = requests.get(url).content\n",
    "print(res) "
   ]
  },
  {
   "cell_type": "markdown",
   "metadata": {},
   "source": [
    "### Añadir una conversación/grupo"
   ]
  },
  {
   "cell_type": "code",
   "execution_count": 6,
   "metadata": {},
   "outputs": [
    {
     "data": {
      "text/plain": [
       "b'Sorry. The Group already exists'"
      ]
     },
     "execution_count": 6,
     "metadata": {},
     "output_type": "execute_result"
    }
   ],
   "source": [
    "chat= \"Festivals\"\n",
    "requests.get(f\"http://localhost:5000/chats/create/{chat}\").content"
   ]
  },
  {
   "cell_type": "code",
   "execution_count": 7,
   "metadata": {},
   "outputs": [
    {
     "data": {
      "text/plain": [
       "b'Sorry. The Group already exists'"
      ]
     },
     "execution_count": 7,
     "metadata": {},
     "output_type": "execute_result"
    }
   ],
   "source": [
    "chat= \"Ironhack\"\n",
    "requests.get(f\"http://localhost:5000/chats/create/{chat}\").content"
   ]
  },
  {
   "cell_type": "markdown",
   "metadata": {},
   "source": [
    "### Crear conversación"
   ]
  },
  {
   "cell_type": "code",
   "execution_count": 8,
   "metadata": {},
   "outputs": [
    {
     "name": "stdout",
     "output_type": "stream",
     "text": [
      "b'User 5f0c3f92ffc2be377870f314 added to conversation 5f0c849d002ca87140e713d7!'\n"
     ]
    }
   ],
   "source": [
    "url = \"http://localhost:5000/chat/5f0c849d002ca87140e713d7/adduser\"\n",
    "new_user = {\"user_id\":\"5f0c3f92ffc2be377870f314\"}\n",
    "res = requests.get(url, params = new_user)\n",
    "res.json\n",
    "print(res.content)"
   ]
  },
  {
   "cell_type": "markdown",
   "metadata": {},
   "source": [
    "### Añadir un usuario a una conversación"
   ]
  },
  {
   "cell_type": "code",
   "execution_count": 9,
   "metadata": {},
   "outputs": [
    {
     "name": "stdout",
     "output_type": "stream",
     "text": [
      "b'User 5f0a33f3c9059239d0bf7676 added to conversation 5f0c849d002ca87140e713d7!'\n"
     ]
    }
   ],
   "source": [
    "conversation_id = \"5f0c849d002ca87140e713d7\"\n",
    "\n",
    "user = \"Isa\"\n",
    "user_id = str(list(db.users.find({\"name\": f\"{user}\"}))[0]['_id'])\n",
    "\n",
    "\n",
    "url = f\"http://localhost:5000/chat/{conversation_id}/adduser\"\n",
    "new_user = {\"user_id\":f\"{user_id}\"}\n",
    "res = requests.get(url, params = new_user)\n",
    "res.json\n",
    "print(res.content)"
   ]
  },
  {
   "cell_type": "code",
   "execution_count": 10,
   "metadata": {},
   "outputs": [
    {
     "data": {
      "text/plain": [
       "'5f0a33f3c9059239d0bf7676'"
      ]
     },
     "execution_count": 10,
     "metadata": {},
     "output_type": "execute_result"
    }
   ],
   "source": [
    "user = \"Isa\"\n",
    "c = list(db.users.find({\"name\": f\"{user}\"}))[0]['_id']\n",
    "str(c)\n"
   ]
  },
  {
   "cell_type": "markdown",
   "metadata": {},
   "source": [
    "### Añadir usuarios a una conversación/grupo"
   ]
  },
  {
   "cell_type": "code",
   "execution_count": 11,
   "metadata": {},
   "outputs": [
    {
     "name": "stdout",
     "output_type": "stream",
     "text": [
      "<Response [404]>\n"
     ]
    }
   ],
   "source": [
    "participants= [\"Isa\",\"Jacob\"]\n",
    "conversation= \"Summer\"\n",
    "\n",
    "url = \"http://localhost:5000/chat/5f0a2c5c01e5fec50ea5fba1/addusers/<participants>\"\n",
    "\n",
    "p_dict = {\"conversation_id\":\"Summer\", \"participants\":[\"Isa\",\"Jacob\"]}\n",
    "res = requests.get(url, params = p_dict)\n",
    "print(res)\n"
   ]
  },
  {
   "cell_type": "code",
   "execution_count": null,
   "metadata": {},
   "outputs": [],
   "source": []
  },
  {
   "cell_type": "markdown",
   "metadata": {},
   "source": [
    "### Añadir mensajes"
   ]
  },
  {
   "cell_type": "code",
   "execution_count": 12,
   "metadata": {},
   "outputs": [
    {
     "name": "stdout",
     "output_type": "stream",
     "text": [
      "<Response [200]>\n",
      "b'Hello, World! said by participant: 5f0d54e117a9fdae380515a5 added to conversation 5f0a2c5c01e5fec50ea5fba1'\n"
     ]
    }
   ],
   "source": [
    "\n",
    "\n",
    "url = \"http://localhost:5000/chat/5f0a2c5c01e5fec50ea5fba1/addmessage\"\n",
    "conversation = {\"name\":\"5f09f8a1ae3716606faea1d9\", \"text\":\"Hello, World!\"}\n",
    "\n",
    "res = requests.get(url, params = conversation)\n",
    "print(res)\n",
    "res.json\n",
    "print(res.content)"
   ]
  },
  {
   "cell_type": "code",
   "execution_count": 13,
   "metadata": {},
   "outputs": [
    {
     "name": "stdout",
     "output_type": "stream",
     "text": [
      "<Response [200]>\n",
      "b'Hello, World! said by participant: 5f0d54e117a9fdae380515a7 added to conversation 5f0c849d002ca87140e713d7'\n"
     ]
    }
   ],
   "source": [
    "user =  findUser(\"Isa\")\n",
    "conversation = findConversation(\"Ironhack\")\n",
    "\n",
    "\n",
    "url = f\"http://localhost:5000/chat/{conversation_id}/addmessage\"\n",
    "conversation = {\"name\":\"5f09f8a1ae3716606faea1d9\", \"text\":\"Hello, World!\"}\n",
    "\n",
    "res = requests.get(url, params = conversation)\n",
    "print(res)\n",
    "res.json\n",
    "print(res.content)\n"
   ]
  },
  {
   "cell_type": "code",
   "execution_count": 31,
   "metadata": {},
   "outputs": [
    {
     "ename": "IndexError",
     "evalue": "list index out of range",
     "output_type": "error",
     "traceback": [
      "\u001b[0;31m---------------------------------------------------------------------------\u001b[0m",
      "\u001b[0;31mIndexError\u001b[0m                                Traceback (most recent call last)",
      "\u001b[0;32m<ipython-input-31-7c1af697a0c7>\u001b[0m in \u001b[0;36m<module>\u001b[0;34m\u001b[0m\n\u001b[0;32m----> 1\u001b[0;31m \u001b[0muser\u001b[0m \u001b[0;34m=\u001b[0m  \u001b[0mfindUser\u001b[0m\u001b[0;34m(\u001b[0m\u001b[0;34m\"Weird Al Yankovic\"\u001b[0m\u001b[0;34m)\u001b[0m\u001b[0;34m\u001b[0m\u001b[0;34m\u001b[0m\u001b[0m\n\u001b[0m\u001b[1;32m      2\u001b[0m \u001b[0mconversation\u001b[0m \u001b[0;34m=\u001b[0m \u001b[0mfindConversation\u001b[0m\u001b[0;34m(\u001b[0m\u001b[0;34m\"Friends\"\u001b[0m\u001b[0;34m)\u001b[0m\u001b[0;34m\u001b[0m\u001b[0;34m\u001b[0m\u001b[0m\n\u001b[1;32m      3\u001b[0m \u001b[0mtext\u001b[0m\u001b[0;34m=\u001b[0m \u001b[0;34m\"¿Qué tal?\"\u001b[0m\u001b[0;34m\u001b[0m\u001b[0;34m\u001b[0m\u001b[0m\n\u001b[1;32m      4\u001b[0m \u001b[0;34m\u001b[0m\u001b[0m\n\u001b[1;32m      5\u001b[0m \u001b[0murl\u001b[0m \u001b[0;34m=\u001b[0m \u001b[0;34mf\"http://localhost:5000/chat/{conversation_id}/addmessage\"\u001b[0m\u001b[0;34m\u001b[0m\u001b[0;34m\u001b[0m\u001b[0m\n",
      "\u001b[0;32m<ipython-input-3-fdefea16b06c>\u001b[0m in \u001b[0;36mfindUser\u001b[0;34m(name)\u001b[0m\n\u001b[1;32m      1\u001b[0m \u001b[0;32mdef\u001b[0m \u001b[0mfindUser\u001b[0m\u001b[0;34m(\u001b[0m\u001b[0mname\u001b[0m\u001b[0;34m)\u001b[0m\u001b[0;34m:\u001b[0m\u001b[0;34m\u001b[0m\u001b[0;34m\u001b[0m\u001b[0m\n\u001b[0;32m----> 2\u001b[0;31m     \u001b[0;32mreturn\u001b[0m \u001b[0mstr\u001b[0m\u001b[0;34m(\u001b[0m\u001b[0mlist\u001b[0m\u001b[0;34m(\u001b[0m\u001b[0mdb\u001b[0m\u001b[0;34m.\u001b[0m\u001b[0musers\u001b[0m\u001b[0;34m.\u001b[0m\u001b[0mfind\u001b[0m\u001b[0;34m(\u001b[0m\u001b[0;34m{\u001b[0m\u001b[0;34m\"name\"\u001b[0m\u001b[0;34m:\u001b[0m \u001b[0;34mf\"{user}\"\u001b[0m\u001b[0;34m}\u001b[0m\u001b[0;34m)\u001b[0m\u001b[0;34m)\u001b[0m\u001b[0;34m[\u001b[0m\u001b[0;36m0\u001b[0m\u001b[0;34m]\u001b[0m\u001b[0;34m[\u001b[0m\u001b[0;34m'_id'\u001b[0m\u001b[0;34m]\u001b[0m\u001b[0;34m)\u001b[0m\u001b[0;34m\u001b[0m\u001b[0;34m\u001b[0m\u001b[0m\n\u001b[0m\u001b[1;32m      3\u001b[0m \u001b[0;34m\u001b[0m\u001b[0m\n\u001b[1;32m      4\u001b[0m \u001b[0;32mdef\u001b[0m \u001b[0mfindConversation\u001b[0m\u001b[0;34m(\u001b[0m\u001b[0mconversation\u001b[0m\u001b[0;34m)\u001b[0m\u001b[0;34m:\u001b[0m\u001b[0;34m\u001b[0m\u001b[0;34m\u001b[0m\u001b[0m\n\u001b[1;32m      5\u001b[0m      \u001b[0;32mreturn\u001b[0m \u001b[0mstr\u001b[0m\u001b[0;34m(\u001b[0m\u001b[0mlist\u001b[0m\u001b[0;34m(\u001b[0m\u001b[0mdb\u001b[0m\u001b[0;34m.\u001b[0m\u001b[0mconversations\u001b[0m\u001b[0;34m.\u001b[0m\u001b[0mfind\u001b[0m\u001b[0;34m(\u001b[0m\u001b[0;34m{\u001b[0m\u001b[0;34m\"conversation_group\"\u001b[0m\u001b[0;34m:\u001b[0m \u001b[0;34mf\"{conversation}\"\u001b[0m\u001b[0;34m}\u001b[0m\u001b[0;34m)\u001b[0m\u001b[0;34m)\u001b[0m\u001b[0;34m[\u001b[0m\u001b[0;36m0\u001b[0m\u001b[0;34m]\u001b[0m\u001b[0;34m[\u001b[0m\u001b[0;34m'_id'\u001b[0m\u001b[0;34m]\u001b[0m\u001b[0;34m)\u001b[0m\u001b[0;34m\u001b[0m\u001b[0;34m\u001b[0m\u001b[0m\n",
      "\u001b[0;31mIndexError\u001b[0m: list index out of range"
     ]
    }
   ],
   "source": [
    "user =  findUser(\"Weird Al Yankovic\")\n",
    "conversation = findConversation(\"Friends\")\n",
    "text= \"¿Qué tal?\"\n",
    "\n",
    "url = f\"http://localhost:5000/chat/{conversation_id}/addmessage\"\n",
    "conversation = {\"name\":\"5f09f8a1ae3716606faea1d9\", \"text\":\"I'm selfish, impatient and a little insecure. I make mistakes, I am out of control and at times hard to handle. But if you can't handle me at my worst, then you sure as hell don't deserve me at my best\"}\n",
    "\n",
    "res = requests.get(url, params = conversation)\n",
    "print(res)\n",
    "res.json\n",
    "print(res.content)\n"
   ]
  },
  {
   "cell_type": "code",
   "execution_count": 35,
   "metadata": {},
   "outputs": [
    {
     "name": "stdout",
     "output_type": "stream",
     "text": [
      "b'Sorry. The User already exists'\n"
     ]
    }
   ],
   "source": [
    "name = \"Donald Trump\"\n",
    "url = f\"http://localhost:5000/user/create/{name}\"\n",
    "res = requests.get(url).content\n",
    "print(res) "
   ]
  },
  {
   "cell_type": "markdown",
   "metadata": {},
   "source": [
    "### Sacas todos los mensajes de un chat"
   ]
  },
  {
   "cell_type": "code",
   "execution_count": 48,
   "metadata": {},
   "outputs": [
    {
     "name": "stdout",
     "output_type": "stream",
     "text": [
      "b'<!DOCTYPE HTML PUBLIC \"-//W3C//DTD HTML 4.01 Transitional//EN\"\\n  \"http://www.w3.org/TR/html4/loose.dtd\">\\n<html>\\n  <head>\\n    <title>TypeError: list expected at most 1 arguments, got 2\\nThe view function did not return a valid response. The return type must be a string, dict, tuple, Response instance, or WSGI callable, but it was a type. // Werkzeug Debugger</title>\\n    <link rel=\"stylesheet\" href=\"?__debugger__=yes&amp;cmd=resource&amp;f=style.css\"\\n        type=\"text/css\">\\n    <!-- We need to make sure this has a favicon so that the debugger does\\n         not by accident trigger a request to /favicon.ico which might\\n         change the application state. -->\\n    <link rel=\"shortcut icon\"\\n        href=\"?__debugger__=yes&amp;cmd=resource&amp;f=console.png\">\\n    <script src=\"?__debugger__=yes&amp;cmd=resource&amp;f=jquery.js\"></script>\\n    <script src=\"?__debugger__=yes&amp;cmd=resource&amp;f=debugger.js\"></script>\\n    <script type=\"text/javascript\">\\n      var TRACEBACK = 4437416912,\\n          CONSOLE_MODE = false,\\n          EVALEX = true,\\n          EVALEX_TRUSTED = false,\\n          SECRET = \"JSrHk4TuA7SgOeZMoStv\";\\n    </script>\\n  </head>\\n  <body style=\"background-color: #fff\">\\n    <div class=\"debugger\">\\n<h1>TypeError</h1>\\n<div class=\"detail\">\\n  <p class=\"errormsg\">TypeError: list expected at most 1 arguments, got 2\\nThe view function did not return a valid response. The return type must be a string, dict, tuple, Response instance, or WSGI callable, but it was a type.</p>\\n</div>\\n<h2 class=\"traceback\">Traceback <em>(most recent call last)</em></h2>\\n<div class=\"traceback\">\\n  \\n  <ul><li><div class=\"frame\" id=\"frame-4437416208\">\\n  <h4>File <cite class=\"filename\">\"/usr/local/lib/python3.7/site-packages/flask/app.py\"</cite>,\\n      line <em class=\"line\">2117</em>,\\n      in <code class=\"function\">make_response</code></h4>\\n  <div class=\"source \"><pre class=\"line before\"><span class=\"ws\">                </span>rv = jsonify(rv)</pre>\\n<pre class=\"line before\"><span class=\"ws\">            </span>elif isinstance(rv, BaseResponse) or callable(rv):</pre>\\n<pre class=\"line before\"><span class=\"ws\">                </span># evaluate a WSGI callable, or coerce a different response</pre>\\n<pre class=\"line before\"><span class=\"ws\">                </span># class to the correct type</pre>\\n<pre class=\"line before\"><span class=\"ws\">                </span>try:</pre>\\n<pre class=\"line current\"><span class=\"ws\">                    </span>rv = self.response_class.force_type(rv, request.environ)</pre>\\n<pre class=\"line after\"><span class=\"ws\">                </span>except TypeError as e:</pre>\\n<pre class=\"line after\"><span class=\"ws\">                    </span>new_error = TypeError(</pre>\\n<pre class=\"line after\"><span class=\"ws\">                        </span>&quot;{e}\\\\nThe view function did not return a valid&quot;</pre>\\n<pre class=\"line after\"><span class=\"ws\">                        </span>&quot; response. The return type must be a string, dict, tuple,&quot;</pre>\\n<pre class=\"line after\"><span class=\"ws\">                        </span>&quot; Response instance, or WSGI callable, but it was a&quot;</pre></div>\\n</div>\\n\\n<li><div class=\"frame\" id=\"frame-4437417424\">\\n  <h4>File <cite class=\"filename\">\"/usr/local/lib/python3.7/site-packages/werkzeug/wrappers/base_response.py\"</cite>,\\n      line <em class=\"line\">269</em>,\\n      in <code class=\"function\">force_type</code></h4>\\n  <div class=\"source \"><pre class=\"line before\"><span class=\"ws\">            </span>if environ is None:</pre>\\n<pre class=\"line before\"><span class=\"ws\">                </span>raise TypeError(</pre>\\n<pre class=\"line before\"><span class=\"ws\">                    </span>&quot;cannot convert WSGI application into response&quot;</pre>\\n<pre class=\"line before\"><span class=\"ws\">                    </span>&quot; objects without an environ&quot;</pre>\\n<pre class=\"line before\"><span class=\"ws\">                </span>)</pre>\\n<pre class=\"line current\"><span class=\"ws\">            </span>response = BaseResponse(*_run_wsgi_app(response, environ))</pre>\\n<pre class=\"line after\"><span class=\"ws\">        </span>response.__class__ = cls</pre>\\n<pre class=\"line after\"><span class=\"ws\">        </span>return response</pre>\\n<pre class=\"line after\"><span class=\"ws\"></span> </pre>\\n<pre class=\"line after\"><span class=\"ws\">    </span>@classmethod</pre>\\n<pre class=\"line after\"><span class=\"ws\">    </span>def from_app(cls, app, environ, buffered=False):</pre></div>\\n</div>\\n\\n<li><div class=\"frame\" id=\"frame-4437416336\">\\n  <h4>File <cite class=\"filename\">\"/usr/local/lib/python3.7/site-packages/werkzeug/wrappers/base_response.py\"</cite>,\\n      line <em class=\"line\">26</em>,\\n      in <code class=\"function\">_run_wsgi_app</code></h4>\\n  <div class=\"source \"><pre class=\"line before\"><span class=\"ws\">    </span>imported unless required.  DO NOT USE!</pre>\\n<pre class=\"line before\"><span class=\"ws\">    </span>&quot;&quot;&quot;</pre>\\n<pre class=\"line before\"><span class=\"ws\">    </span>global _run_wsgi_app</pre>\\n<pre class=\"line before\"><span class=\"ws\">    </span>from ..test import run_wsgi_app as _run_wsgi_app</pre>\\n<pre class=\"line before\"><span class=\"ws\"></span> </pre>\\n<pre class=\"line current\"><span class=\"ws\">    </span>return _run_wsgi_app(*args)</pre>\\n<pre class=\"line after\"><span class=\"ws\"></span> </pre>\\n<pre class=\"line after\"><span class=\"ws\"></span> </pre>\\n<pre class=\"line after\"><span class=\"ws\"></span>def _warn_if_string(iterable):</pre>\\n<pre class=\"line after\"><span class=\"ws\">    </span>&quot;&quot;&quot;Helper for the response objects to check if the iterable returned</pre>\\n<pre class=\"line after\"><span class=\"ws\">    </span>to the WSGI server is not a string.</pre></div>\\n</div>\\n\\n<li><div class=\"frame\" id=\"frame-4437416400\">\\n  <h4>File <cite class=\"filename\">\"/usr/local/lib/python3.7/site-packages/werkzeug/test.py\"</cite>,\\n      line <em class=\"line\">1096</em>,\\n      in <code class=\"function\">run_wsgi_app</code></h4>\\n  <div class=\"source \"><pre class=\"line before\"><span class=\"ws\">        </span>if exc_info is not None:</pre>\\n<pre class=\"line before\"><span class=\"ws\">            </span>reraise(*exc_info)</pre>\\n<pre class=\"line before\"><span class=\"ws\">        </span>response[:] = [status, headers]</pre>\\n<pre class=\"line before\"><span class=\"ws\">        </span>return buffer.append</pre>\\n<pre class=\"line before\"><span class=\"ws\"></span> </pre>\\n<pre class=\"line current\"><span class=\"ws\">    </span>app_rv = app(environ, start_response)</pre>\\n<pre class=\"line after\"><span class=\"ws\">    </span>close_func = getattr(app_rv, &quot;close&quot;, None)</pre>\\n<pre class=\"line after\"><span class=\"ws\">    </span>app_iter = iter(app_rv)</pre>\\n<pre class=\"line after\"><span class=\"ws\"></span> </pre>\\n<pre class=\"line after\"><span class=\"ws\">    </span># when buffering we emit the close call early and convert the</pre>\\n<pre class=\"line after\"><span class=\"ws\">    </span># application iterator into a regular list</pre></div>\\n</div>\\n\\n<li><div class=\"exc-divider\">During handling of the above exception, another exception occurred:</div>\\n<li><div class=\"frame\" id=\"frame-4437416592\">\\n  <h4>File <cite class=\"filename\">\"/usr/local/lib/python3.7/site-packages/flask/app.py\"</cite>,\\n      line <em class=\"line\">2464</em>,\\n      in <code class=\"function\">__call__</code></h4>\\n  <div class=\"source \"><pre class=\"line before\"><span class=\"ws\"></span> </pre>\\n<pre class=\"line before\"><span class=\"ws\">    </span>def __call__(self, environ, start_response):</pre>\\n<pre class=\"line before\"><span class=\"ws\">        </span>&quot;&quot;&quot;The WSGI server calls the Flask application object as the</pre>\\n<pre class=\"line before\"><span class=\"ws\">        </span>WSGI application. This calls :meth:`wsgi_app` which can be</pre>\\n<pre class=\"line before\"><span class=\"ws\">        </span>wrapped to applying middleware.&quot;&quot;&quot;</pre>\\n<pre class=\"line current\"><span class=\"ws\">        </span>return self.wsgi_app(environ, start_response)</pre>\\n<pre class=\"line after\"><span class=\"ws\"></span> </pre>\\n<pre class=\"line after\"><span class=\"ws\">    </span>def __repr__(self):</pre>\\n<pre class=\"line after\"><span class=\"ws\">        </span>return &quot;&lt;%s %r&gt;&quot; % (self.__class__.__name__, self.name)</pre></div>\\n</div>\\n\\n<li><div class=\"frame\" id=\"frame-4436751632\">\\n  <h4>File <cite class=\"filename\">\"/usr/local/lib/python3.7/site-packages/flask/app.py\"</cite>,\\n      line <em class=\"line\">2450</em>,\\n      in <code class=\"function\">wsgi_app</code></h4>\\n  <div class=\"source \"><pre class=\"line before\"><span class=\"ws\">            </span>try:</pre>\\n<pre class=\"line before\"><span class=\"ws\">                </span>ctx.push()</pre>\\n<pre class=\"line before\"><span class=\"ws\">                </span>response = self.full_dispatch_request()</pre>\\n<pre class=\"line before\"><span class=\"ws\">            </span>except Exception as e:</pre>\\n<pre class=\"line before\"><span class=\"ws\">                </span>error = e</pre>\\n<pre class=\"line current\"><span class=\"ws\">                </span>response = self.handle_exception(e)</pre>\\n<pre class=\"line after\"><span class=\"ws\">            </span>except:  # noqa: B001</pre>\\n<pre class=\"line after\"><span class=\"ws\">                </span>error = sys.exc_info()[1]</pre>\\n<pre class=\"line after\"><span class=\"ws\">                </span>raise</pre>\\n<pre class=\"line after\"><span class=\"ws\">            </span>return response(environ, start_response)</pre>\\n<pre class=\"line after\"><span class=\"ws\">        </span>finally:</pre></div>\\n</div>\\n\\n<li><div class=\"frame\" id=\"frame-4426590544\">\\n  <h4>File <cite class=\"filename\">\"/usr/local/lib/python3.7/site-packages/flask/app.py\"</cite>,\\n      line <em class=\"line\">1867</em>,\\n      in <code class=\"function\">handle_exception</code></h4>\\n  <div class=\"source \"><pre class=\"line before\"><span class=\"ws\">            </span># if we want to repropagate the exception, we can attempt to</pre>\\n<pre class=\"line before\"><span class=\"ws\">            </span># raise it with the whole traceback in case we can do that</pre>\\n<pre class=\"line before\"><span class=\"ws\">            </span># (the function was actually called from the except part)</pre>\\n<pre class=\"line before\"><span class=\"ws\">            </span># otherwise, we just raise the error again</pre>\\n<pre class=\"line before\"><span class=\"ws\">            </span>if exc_value is e:</pre>\\n<pre class=\"line current\"><span class=\"ws\">                </span>reraise(exc_type, exc_value, tb)</pre>\\n<pre class=\"line after\"><span class=\"ws\">            </span>else:</pre>\\n<pre class=\"line after\"><span class=\"ws\">                </span>raise e</pre>\\n<pre class=\"line after\"><span class=\"ws\"></span> </pre>\\n<pre class=\"line after\"><span class=\"ws\">        </span>self.log_exception((exc_type, exc_value, tb))</pre>\\n<pre class=\"line after\"><span class=\"ws\">        </span>server_error = InternalServerError()</pre></div>\\n</div>\\n\\n<li><div class=\"frame\" id=\"frame-4437417104\">\\n  <h4>File <cite class=\"filename\">\"/usr/local/lib/python3.7/site-packages/flask/_compat.py\"</cite>,\\n      line <em class=\"line\">39</em>,\\n      in <code class=\"function\">reraise</code></h4>\\n  <div class=\"source \"><pre class=\"line before\"><span class=\"ws\">    </span>import collections.abc as collections_abc</pre>\\n<pre class=\"line before\"><span class=\"ws\"></span> </pre>\\n<pre class=\"line before\"><span class=\"ws\">    </span>def reraise(tp, value, tb=None):</pre>\\n<pre class=\"line before\"><span class=\"ws\">        </span>if value.__traceback__ is not tb:</pre>\\n<pre class=\"line before\"><span class=\"ws\">            </span>raise value.with_traceback(tb)</pre>\\n<pre class=\"line current\"><span class=\"ws\">        </span>raise value</pre>\\n<pre class=\"line after\"><span class=\"ws\"></span> </pre>\\n<pre class=\"line after\"><span class=\"ws\">    </span>implements_to_string = _identity</pre>\\n<pre class=\"line after\"><span class=\"ws\"></span> </pre>\\n<pre class=\"line after\"><span class=\"ws\"></span>else:</pre>\\n<pre class=\"line after\"><span class=\"ws\">    </span>iterkeys = lambda d: d.iterkeys()</pre></div>\\n</div>\\n\\n<li><div class=\"frame\" id=\"frame-4437416656\">\\n  <h4>File <cite class=\"filename\">\"/usr/local/lib/python3.7/site-packages/flask/app.py\"</cite>,\\n      line <em class=\"line\">2447</em>,\\n      in <code class=\"function\">wsgi_app</code></h4>\\n  <div class=\"source \"><pre class=\"line before\"><span class=\"ws\">        </span>ctx = self.request_context(environ)</pre>\\n<pre class=\"line before\"><span class=\"ws\">        </span>error = None</pre>\\n<pre class=\"line before\"><span class=\"ws\">        </span>try:</pre>\\n<pre class=\"line before\"><span class=\"ws\">            </span>try:</pre>\\n<pre class=\"line before\"><span class=\"ws\">                </span>ctx.push()</pre>\\n<pre class=\"line current\"><span class=\"ws\">                </span>response = self.full_dispatch_request()</pre>\\n<pre class=\"line after\"><span class=\"ws\">            </span>except Exception as e:</pre>\\n<pre class=\"line after\"><span class=\"ws\">                </span>error = e</pre>\\n<pre class=\"line after\"><span class=\"ws\">                </span>response = self.handle_exception(e)</pre>\\n<pre class=\"line after\"><span class=\"ws\">            </span>except:  # noqa: B001</pre>\\n<pre class=\"line after\"><span class=\"ws\">                </span>error = sys.exc_info()[1]</pre></div>\\n</div>\\n\\n<li><div class=\"frame\" id=\"frame-4437416016\">\\n  <h4>File <cite class=\"filename\">\"/usr/local/lib/python3.7/site-packages/flask/app.py\"</cite>,\\n      line <em class=\"line\">1953</em>,\\n      in <code class=\"function\">full_dispatch_request</code></h4>\\n  <div class=\"source \"><pre class=\"line before\"><span class=\"ws\">            </span>rv = self.preprocess_request()</pre>\\n<pre class=\"line before\"><span class=\"ws\">            </span>if rv is None:</pre>\\n<pre class=\"line before\"><span class=\"ws\">                </span>rv = self.dispatch_request()</pre>\\n<pre class=\"line before\"><span class=\"ws\">        </span>except Exception as e:</pre>\\n<pre class=\"line before\"><span class=\"ws\">            </span>rv = self.handle_user_exception(e)</pre>\\n<pre class=\"line current\"><span class=\"ws\">        </span>return self.finalize_request(rv)</pre>\\n<pre class=\"line after\"><span class=\"ws\"></span> </pre>\\n<pre class=\"line after\"><span class=\"ws\">    </span>def finalize_request(self, rv, from_error_handler=False):</pre>\\n<pre class=\"line after\"><span class=\"ws\">        </span>&quot;&quot;&quot;Given the return value from a view function this finalizes</pre>\\n<pre class=\"line after\"><span class=\"ws\">        </span>the request by converting it into a response and invoking the</pre>\\n<pre class=\"line after\"><span class=\"ws\">        </span>postprocessing functions.  This is invoked for both normal</pre></div>\\n</div>\\n\\n<li><div class=\"frame\" id=\"frame-4437417360\">\\n  <h4>File <cite class=\"filename\">\"/usr/local/lib/python3.7/site-packages/flask/app.py\"</cite>,\\n      line <em class=\"line\">1968</em>,\\n      in <code class=\"function\">finalize_request</code></h4>\\n  <div class=\"source \"><pre class=\"line before\"><span class=\"ws\">        </span>with the `from_error_handler` flag.  If enabled, failures in</pre>\\n<pre class=\"line before\"><span class=\"ws\">        </span>response processing will be logged and otherwise ignored.</pre>\\n<pre class=\"line before\"><span class=\"ws\"></span> </pre>\\n<pre class=\"line before\"><span class=\"ws\">        </span>:internal:</pre>\\n<pre class=\"line before\"><span class=\"ws\">        </span>&quot;&quot;&quot;</pre>\\n<pre class=\"line current\"><span class=\"ws\">        </span>response = self.make_response(rv)</pre>\\n<pre class=\"line after\"><span class=\"ws\">        </span>try:</pre>\\n<pre class=\"line after\"><span class=\"ws\">            </span>response = self.process_response(response)</pre>\\n<pre class=\"line after\"><span class=\"ws\">            </span>request_finished.send(self, response=response)</pre>\\n<pre class=\"line after\"><span class=\"ws\">        </span>except Exception:</pre>\\n<pre class=\"line after\"><span class=\"ws\">            </span>if not from_error_handler:</pre></div>\\n</div>\\n\\n<li><div class=\"frame\" id=\"frame-4437417296\">\\n  <h4>File <cite class=\"filename\">\"/usr/local/lib/python3.7/site-packages/flask/app.py\"</cite>,\\n      line <em class=\"line\">2125</em>,\\n      in <code class=\"function\">make_response</code></h4>\\n  <div class=\"source \"><pre class=\"line before\"><span class=\"ws\">                        </span>&quot;{e}\\\\nThe view function did not return a valid&quot;</pre>\\n<pre class=\"line before\"><span class=\"ws\">                        </span>&quot; response. The return type must be a string, dict, tuple,&quot;</pre>\\n<pre class=\"line before\"><span class=\"ws\">                        </span>&quot; Response instance, or WSGI callable, but it was a&quot;</pre>\\n<pre class=\"line before\"><span class=\"ws\">                        </span>&quot; {rv.__class__.__name__}.&quot;.format(e=e, rv=rv)</pre>\\n<pre class=\"line before\"><span class=\"ws\">                    </span>)</pre>\\n<pre class=\"line current\"><span class=\"ws\">                    </span>reraise(TypeError, new_error, sys.exc_info()[2])</pre>\\n<pre class=\"line after\"><span class=\"ws\">            </span>else:</pre>\\n<pre class=\"line after\"><span class=\"ws\">                </span>raise TypeError(</pre>\\n<pre class=\"line after\"><span class=\"ws\">                    </span>&quot;The view function did not return a valid&quot;</pre>\\n<pre class=\"line after\"><span class=\"ws\">                    </span>&quot; response. The return type must be a string, dict, tuple,&quot;</pre>\\n<pre class=\"line after\"><span class=\"ws\">                    </span>&quot; Response instance, or WSGI callable, but it was a&quot;</pre></div>\\n</div>\\n\\n<li><div class=\"frame\" id=\"frame-4437416528\">\\n  <h4>File <cite class=\"filename\">\"/usr/local/lib/python3.7/site-packages/flask/_compat.py\"</cite>,\\n      line <em class=\"line\">38</em>,\\n      in <code class=\"function\">reraise</code></h4>\\n  <div class=\"source \"><pre class=\"line before\"><span class=\"ws\">    </span>from io import StringIO</pre>\\n<pre class=\"line before\"><span class=\"ws\">    </span>import collections.abc as collections_abc</pre>\\n<pre class=\"line before\"><span class=\"ws\"></span> </pre>\\n<pre class=\"line before\"><span class=\"ws\">    </span>def reraise(tp, value, tb=None):</pre>\\n<pre class=\"line before\"><span class=\"ws\">        </span>if value.__traceback__ is not tb:</pre>\\n<pre class=\"line current\"><span class=\"ws\">            </span>raise value.with_traceback(tb)</pre>\\n<pre class=\"line after\"><span class=\"ws\">        </span>raise value</pre>\\n<pre class=\"line after\"><span class=\"ws\"></span> </pre>\\n<pre class=\"line after\"><span class=\"ws\">    </span>implements_to_string = _identity</pre>\\n<pre class=\"line after\"><span class=\"ws\"></span> </pre>\\n<pre class=\"line after\"><span class=\"ws\"></span>else:</pre></div>\\n</div>\\n\\n<li><div class=\"frame\" id=\"frame-4437415568\">\\n  <h4>File <cite class=\"filename\">\"/usr/local/lib/python3.7/site-packages/flask/app.py\"</cite>,\\n      line <em class=\"line\">2117</em>,\\n      in <code class=\"function\">make_response</code></h4>\\n  <div class=\"source \"><pre class=\"line before\"><span class=\"ws\">                </span>rv = jsonify(rv)</pre>\\n<pre class=\"line before\"><span class=\"ws\">            </span>elif isinstance(rv, BaseResponse) or callable(rv):</pre>\\n<pre class=\"line before\"><span class=\"ws\">                </span># evaluate a WSGI callable, or coerce a different response</pre>\\n<pre class=\"line before\"><span class=\"ws\">                </span># class to the correct type</pre>\\n<pre class=\"line before\"><span class=\"ws\">                </span>try:</pre>\\n<pre class=\"line current\"><span class=\"ws\">                    </span>rv = self.response_class.force_type(rv, request.environ)</pre>\\n<pre class=\"line after\"><span class=\"ws\">                </span>except TypeError as e:</pre>\\n<pre class=\"line after\"><span class=\"ws\">                    </span>new_error = TypeError(</pre>\\n<pre class=\"line after\"><span class=\"ws\">                        </span>&quot;{e}\\\\nThe view function did not return a valid&quot;</pre>\\n<pre class=\"line after\"><span class=\"ws\">                        </span>&quot; response. The return type must be a string, dict, tuple,&quot;</pre>\\n<pre class=\"line after\"><span class=\"ws\">                        </span>&quot; Response instance, or WSGI callable, but it was a&quot;</pre></div>\\n</div>\\n\\n<li><div class=\"frame\" id=\"frame-4437415888\">\\n  <h4>File <cite class=\"filename\">\"/usr/local/lib/python3.7/site-packages/werkzeug/wrappers/base_response.py\"</cite>,\\n      line <em class=\"line\">269</em>,\\n      in <code class=\"function\">force_type</code></h4>\\n  <div class=\"source \"><pre class=\"line before\"><span class=\"ws\">            </span>if environ is None:</pre>\\n<pre class=\"line before\"><span class=\"ws\">                </span>raise TypeError(</pre>\\n<pre class=\"line before\"><span class=\"ws\">                    </span>&quot;cannot convert WSGI application into response&quot;</pre>\\n<pre class=\"line before\"><span class=\"ws\">                    </span>&quot; objects without an environ&quot;</pre>\\n<pre class=\"line before\"><span class=\"ws\">                </span>)</pre>\\n<pre class=\"line current\"><span class=\"ws\">            </span>response = BaseResponse(*_run_wsgi_app(response, environ))</pre>\\n<pre class=\"line after\"><span class=\"ws\">        </span>response.__class__ = cls</pre>\\n<pre class=\"line after\"><span class=\"ws\">        </span>return response</pre>\\n<pre class=\"line after\"><span class=\"ws\"></span> </pre>\\n<pre class=\"line after\"><span class=\"ws\">    </span>@classmethod</pre>\\n<pre class=\"line after\"><span class=\"ws\">    </span>def from_app(cls, app, environ, buffered=False):</pre></div>\\n</div>\\n\\n<li><div class=\"frame\" id=\"frame-4437417552\">\\n  <h4>File <cite class=\"filename\">\"/usr/local/lib/python3.7/site-packages/werkzeug/wrappers/base_response.py\"</cite>,\\n      line <em class=\"line\">26</em>,\\n      in <code class=\"function\">_run_wsgi_app</code></h4>\\n  <div class=\"source \"><pre class=\"line before\"><span class=\"ws\">    </span>imported unless required.  DO NOT USE!</pre>\\n<pre class=\"line before\"><span class=\"ws\">    </span>&quot;&quot;&quot;</pre>\\n<pre class=\"line before\"><span class=\"ws\">    </span>global _run_wsgi_app</pre>\\n<pre class=\"line before\"><span class=\"ws\">    </span>from ..test import run_wsgi_app as _run_wsgi_app</pre>\\n<pre class=\"line before\"><span class=\"ws\"></span> </pre>\\n<pre class=\"line current\"><span class=\"ws\">    </span>return _run_wsgi_app(*args)</pre>\\n<pre class=\"line after\"><span class=\"ws\"></span> </pre>\\n<pre class=\"line after\"><span class=\"ws\"></span> </pre>\\n<pre class=\"line after\"><span class=\"ws\"></span>def _warn_if_string(iterable):</pre>\\n<pre class=\"line after\"><span class=\"ws\">    </span>&quot;&quot;&quot;Helper for the response objects to check if the iterable returned</pre>\\n<pre class=\"line after\"><span class=\"ws\">    </span>to the WSGI server is not a string.</pre></div>\\n</div>\\n\\n<li><div class=\"frame\" id=\"frame-4437416272\">\\n  <h4>File <cite class=\"filename\">\"/usr/local/lib/python3.7/site-packages/werkzeug/test.py\"</cite>,\\n      line <em class=\"line\">1096</em>,\\n      in <code class=\"function\">run_wsgi_app</code></h4>\\n  <div class=\"source \"><pre class=\"line before\"><span class=\"ws\">        </span>if exc_info is not None:</pre>\\n<pre class=\"line before\"><span class=\"ws\">            </span>reraise(*exc_info)</pre>\\n<pre class=\"line before\"><span class=\"ws\">        </span>response[:] = [status, headers]</pre>\\n<pre class=\"line before\"><span class=\"ws\">        </span>return buffer.append</pre>\\n<pre class=\"line before\"><span class=\"ws\"></span> </pre>\\n<pre class=\"line current\"><span class=\"ws\">    </span>app_rv = app(environ, start_response)</pre>\\n<pre class=\"line after\"><span class=\"ws\">    </span>close_func = getattr(app_rv, &quot;close&quot;, None)</pre>\\n<pre class=\"line after\"><span class=\"ws\">    </span>app_iter = iter(app_rv)</pre>\\n<pre class=\"line after\"><span class=\"ws\"></span> </pre>\\n<pre class=\"line after\"><span class=\"ws\">    </span># when buffering we emit the close call early and convert the</pre>\\n<pre class=\"line after\"><span class=\"ws\">    </span># application iterator into a regular list</pre></div>\\n</div>\\n</ul>\\n  <blockquote>TypeError: list expected at most 1 arguments, got 2\\nThe view function did not return a valid response. The return type must be a string, dict, tuple, Response instance, or WSGI callable, but it was a type.</blockquote>\\n</div>\\n\\n<div class=\"plain\">\\n  <form action=\"/?__debugger__=yes&amp;cmd=paste\" method=\"post\">\\n    <p>\\n      <input type=\"hidden\" name=\"language\" value=\"pytb\">\\n      This is the Copy/Paste friendly version of the traceback.  <span\\n      class=\"pastemessage\">You can also paste this traceback into\\n      a <a href=\"https://gist.github.com/\">gist</a>:\\n      <input type=\"submit\" value=\"create paste\"></span>\\n    </p>\\n    <textarea cols=\"50\" rows=\"10\" name=\"code\" readonly>Traceback (most recent call last):\\n  File &quot;/usr/local/lib/python3.7/site-packages/flask/app.py&quot;, line 2117, in make_response\\n    rv = self.response_class.force_type(rv, request.environ)\\n  File &quot;/usr/local/lib/python3.7/site-packages/werkzeug/wrappers/base_response.py&quot;, line 269, in force_type\\n    response = BaseResponse(*_run_wsgi_app(response, environ))\\n  File &quot;/usr/local/lib/python3.7/site-packages/werkzeug/wrappers/base_response.py&quot;, line 26, in _run_wsgi_app\\n    return _run_wsgi_app(*args)\\n  File &quot;/usr/local/lib/python3.7/site-packages/werkzeug/test.py&quot;, line 1096, in run_wsgi_app\\n    app_rv = app(environ, start_response)\\nTypeError: list expected at most 1 arguments, got 2\\n\\nDuring handling of the above exception, another exception occurred:\\n\\nTraceback (most recent call last):\\n  File &quot;/usr/local/lib/python3.7/site-packages/flask/app.py&quot;, line 2464, in __call__\\n    return self.wsgi_app(environ, start_response)\\n  File &quot;/usr/local/lib/python3.7/site-packages/flask/app.py&quot;, line 2450, in wsgi_app\\n    response = self.handle_exception(e)\\n  File &quot;/usr/local/lib/python3.7/site-packages/flask/app.py&quot;, line 1867, in handle_exception\\n    reraise(exc_type, exc_value, tb)\\n  File &quot;/usr/local/lib/python3.7/site-packages/flask/_compat.py&quot;, line 39, in reraise\\n    raise value\\n  File &quot;/usr/local/lib/python3.7/site-packages/flask/app.py&quot;, line 2447, in wsgi_app\\n    response = self.full_dispatch_request()\\n  File &quot;/usr/local/lib/python3.7/site-packages/flask/app.py&quot;, line 1953, in full_dispatch_request\\n    return self.finalize_request(rv)\\n  File &quot;/usr/local/lib/python3.7/site-packages/flask/app.py&quot;, line 1968, in finalize_request\\n    response = self.make_response(rv)\\n  File &quot;/usr/local/lib/python3.7/site-packages/flask/app.py&quot;, line 2125, in make_response\\n    reraise(TypeError, new_error, sys.exc_info()[2])\\n  File &quot;/usr/local/lib/python3.7/site-packages/flask/_compat.py&quot;, line 38, in reraise\\n    raise value.with_traceback(tb)\\n  File &quot;/usr/local/lib/python3.7/site-packages/flask/app.py&quot;, line 2117, in make_response\\n    rv = self.response_class.force_type(rv, request.environ)\\n  File &quot;/usr/local/lib/python3.7/site-packages/werkzeug/wrappers/base_response.py&quot;, line 269, in force_type\\n    response = BaseResponse(*_run_wsgi_app(response, environ))\\n  File &quot;/usr/local/lib/python3.7/site-packages/werkzeug/wrappers/base_response.py&quot;, line 26, in _run_wsgi_app\\n    return _run_wsgi_app(*args)\\n  File &quot;/usr/local/lib/python3.7/site-packages/werkzeug/test.py&quot;, line 1096, in run_wsgi_app\\n    app_rv = app(environ, start_response)\\nTypeError: list expected at most 1 arguments, got 2\\nThe view function did not return a valid response. The return type must be a string, dict, tuple, Response instance, or WSGI callable, but it was a type.</textarea>\\n  </form>\\n</div>\\n<div class=\"explanation\">\\n  The debugger caught an exception in your WSGI application.  You can now\\n  look at the traceback which led to the error.  <span class=\"nojavascript\">\\n  If you enable JavaScript you can also use additional features such as code\\n  execution (if the evalex feature is enabled), automatic pasting of the\\n  exceptions and much more.</span>\\n</div>\\n      <div class=\"footer\">\\n        Brought to you by <strong class=\"arthur\">DON\\'T PANIC</strong>, your\\n        friendly Werkzeug powered traceback interpreter.\\n      </div>\\n    </div>\\n\\n    <div class=\"pin-prompt\">\\n      <div class=\"inner\">\\n        <h3>Console Locked</h3>\\n        <p>\\n          The console is locked and needs to be unlocked by entering the PIN.\\n          You can find the PIN printed out on the standard output of your\\n          shell that runs the server.\\n        <form>\\n          <p>PIN:\\n            <input type=text name=pin size=14>\\n            <input type=submit name=btn value=\"Confirm Pin\">\\n        </form>\\n      </div>\\n    </div>\\n  </body>\\n</html>\\n\\n<!--\\n\\nTraceback (most recent call last):\\n  File \"/usr/local/lib/python3.7/site-packages/flask/app.py\", line 2117, in make_response\\n    rv = self.response_class.force_type(rv, request.environ)\\n  File \"/usr/local/lib/python3.7/site-packages/werkzeug/wrappers/base_response.py\", line 269, in force_type\\n    response = BaseResponse(*_run_wsgi_app(response, environ))\\n  File \"/usr/local/lib/python3.7/site-packages/werkzeug/wrappers/base_response.py\", line 26, in _run_wsgi_app\\n    return _run_wsgi_app(*args)\\n  File \"/usr/local/lib/python3.7/site-packages/werkzeug/test.py\", line 1096, in run_wsgi_app\\n    app_rv = app(environ, start_response)\\nTypeError: list expected at most 1 arguments, got 2\\n\\nDuring handling of the above exception, another exception occurred:\\n\\nTraceback (most recent call last):\\n  File \"/usr/local/lib/python3.7/site-packages/flask/app.py\", line 2464, in __call__\\n    return self.wsgi_app(environ, start_response)\\n  File \"/usr/local/lib/python3.7/site-packages/flask/app.py\", line 2450, in wsgi_app\\n    response = self.handle_exception(e)\\n  File \"/usr/local/lib/python3.7/site-packages/flask/app.py\", line 1867, in handle_exception\\n    reraise(exc_type, exc_value, tb)\\n  File \"/usr/local/lib/python3.7/site-packages/flask/_compat.py\", line 39, in reraise\\n    raise value\\n  File \"/usr/local/lib/python3.7/site-packages/flask/app.py\", line 2447, in wsgi_app\\n    response = self.full_dispatch_request()\\n  File \"/usr/local/lib/python3.7/site-packages/flask/app.py\", line 1953, in full_dispatch_request\\n    return self.finalize_request(rv)\\n  File \"/usr/local/lib/python3.7/site-packages/flask/app.py\", line 1968, in finalize_request\\n    response = self.make_response(rv)\\n  File \"/usr/local/lib/python3.7/site-packages/flask/app.py\", line 2125, in make_response\\n    reraise(TypeError, new_error, sys.exc_info()[2])\\n  File \"/usr/local/lib/python3.7/site-packages/flask/_compat.py\", line 38, in reraise\\n    raise value.with_traceback(tb)\\n  File \"/usr/local/lib/python3.7/site-packages/flask/app.py\", line 2117, in make_response\\n    rv = self.response_class.force_type(rv, request.environ)\\n  File \"/usr/local/lib/python3.7/site-packages/werkzeug/wrappers/base_response.py\", line 269, in force_type\\n    response = BaseResponse(*_run_wsgi_app(response, environ))\\n  File \"/usr/local/lib/python3.7/site-packages/werkzeug/wrappers/base_response.py\", line 26, in _run_wsgi_app\\n    return _run_wsgi_app(*args)\\n  File \"/usr/local/lib/python3.7/site-packages/werkzeug/test.py\", line 1096, in run_wsgi_app\\n    app_rv = app(environ, start_response)\\nTypeError: list expected at most 1 arguments, got 2\\nThe view function did not return a valid response. The return type must be a string, dict, tuple, Response instance, or WSGI callable, but it was a type.\\n\\n-->\\n'\n"
     ]
    }
   ],
   "source": [
    "name = \"5f0c7695198fba6aebbe4e43\"\n",
    "url = f\"http://localhost:5000/chat/message/{name}\"\n",
    "res = requests.get(url).content\n",
    "print(res) \n"
   ]
  },
  {
   "cell_type": "code",
   "execution_count": null,
   "metadata": {},
   "outputs": [],
   "source": []
  },
  {
   "cell_type": "code",
   "execution_count": null,
   "metadata": {},
   "outputs": [],
   "source": [
    "url_mensajes_chat = \"http://localhost:5000/chat/message/\"\n",
    "grupo = \"5f0c7695198fba6aebbe4e43\"\n",
    "mensajes = requests.get(url_mensajes_chat + grupo).json()\n",
    "mensajes"
   ]
  }
 ],
 "metadata": {
  "kernelspec": {
   "display_name": "Python 3",
   "language": "python",
   "name": "python3"
  },
  "language_info": {
   "codemirror_mode": {
    "name": "ipython",
    "version": 3
   },
   "file_extension": ".py",
   "mimetype": "text/x-python",
   "name": "python",
   "nbconvert_exporter": "python",
   "pygments_lexer": "ipython3",
   "version": "3.7.7"
  }
 },
 "nbformat": 4,
 "nbformat_minor": 4
}
